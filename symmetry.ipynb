{
 "cells": [
  {
   "cell_type": "code",
   "execution_count": 22,
   "id": "flying-harmony",
   "metadata": {},
   "outputs": [],
   "source": [
    "from pymatgen import Lattice,Structure\n",
    "from jupyter_jsmol.pymatgen import quick_view\n",
    "from pymatgen.ext.matproj import MPRester\n",
    "import numpy as np\n",
    "from pymatgen.symmetry.analyzer import SpacegroupAnalyzer\n",
    "from pymatgen.core.operations import SymmOp\n",
    "from IPython.display import Image\n",
    "from pymatgen.symmetry.structure import SymmetrizedStructure\n",
    "from jupyter_jsmol import JsmolView\n",
    "from ipywidgets import Layout, widgets, interact, Output\n",
    "from IPython.display import display\n",
    "import matplotlib.image as mpimg"
   ]
  },
  {
   "cell_type": "code",
   "execution_count": 23,
   "id": "productive-norway",
   "metadata": {},
   "outputs": [],
   "source": [
    "with MPRester(\"CUtlIkfw4Pq2Hd7W\") as m:\n",
    "    \n",
    "    # Structure for material id\n",
    "    structu = m.get_structure_by_material_id(\"mp-753774\")\n",
    "    structu.to(filename=\"KTmO2.cif\")\n",
    "    \n",
    "#Structure from cif\n",
    "struct = Structure.from_file(\"KTmO2_mp-753774_symmetrized.cif\")\n",
    "    "
   ]
  },
  {
   "cell_type": "code",
   "execution_count": 24,
   "id": "unsigned-venue",
   "metadata": {},
   "outputs": [],
   "source": [
    "n=SpacegroupAnalyzer(structu).get_conventional_standard_structure()\n",
    "SymList = SpacegroupAnalyzer(n).get_symmetry_operations()"
   ]
  },
  {
   "cell_type": "code",
   "execution_count": 27,
   "id": "weekly-wilson",
   "metadata": {},
   "outputs": [
    {
     "name": "stdout",
     "output_type": "stream",
     "text": [
      "Premier élément de symétrie :\n",
      "\n",
      "-y, -x, z \n",
      "\n",
      "Les coordonnées de l'atome de potassium (K) sur lequel la symétrie est appliquée sont (1.71185, 0.98834, 6.23854)\n",
      "L'opération de symétrie est un plan miroir de normale (1,1,0)\n",
      "En appliquant l'opération de symétrie l'atome se retouve en (-0.98834,-1.71185, 6.23854)\n"
     ]
    },
    {
     "data": {
      "application/vnd.jupyter.widget-view+json": {
       "model_id": "12a091df0e364cc79bc35889ad060eeb",
       "version_major": 2,
       "version_minor": 0
      },
      "text/plain": [
       "JsmolView(layout=Layout(align_self='stretch', height='400px'))"
      ]
     },
     "metadata": {},
     "output_type": "display_data"
    }
   ],
   "source": [
    "#Premier élément de symétrie\n",
    "Mirror = SymList[7]\n",
    "print(\"Premier élément de symétrie :\\n\")\n",
    "print(Mirror.as_xyz_string(),\"\\n\")\n",
    "print(\"Les coordonnées de l'atome de potassium (K) sur lequel la symétrie est appliquée sont (1.71185, 0.98834, 6.23854)\")\n",
    "print(\"L'opération de symétrie est un plan miroir de normale (1,1,0)\")\n",
    "print(\"En appliquant l'opération de symétrie l'atome se retouve en (-0.98834,-1.71185, 6.23854)\")\n",
    "view = quick_view(struct,\"packed\")\n",
    "display(view)\n",
    "view.script(\"draw symop 8 {atomno=5}\")"
   ]
  },
  {
   "cell_type": "code",
   "execution_count": 28,
   "id": "colonial-fundamentals",
   "metadata": {},
   "outputs": [
    {
     "name": "stdout",
     "output_type": "stream",
     "text": [
      "Deuxième élément de symétrie :\n",
      "\n",
      "x-y+2/3, x+1/3, -z+1/3 \n",
      "\n",
      "Les coordonnées de l'atome de Thulium (Tm) sur lequel la symétrie est appliquée sont (0.00000, 0.00000, 9.35780)\n",
      "L'opérations de symétrie est une rotoinversion, c'est-à-dire une rotation de 120° suivi d'une inversion de centre (-2/3, -1/3, 1/6)\n",
      "En appliquant l'opération de symétrie l'atome se retouve en (0.67,0.33,-9.0244)\n"
     ]
    },
    {
     "data": {
      "application/vnd.jupyter.widget-view+json": {
       "model_id": "d579c0ae7dfd470c9a2a50c80463c265",
       "version_major": 2,
       "version_minor": 0
      },
      "text/plain": [
       "JsmolView(layout=Layout(align_self='stretch', height='400px'))"
      ]
     },
     "metadata": {},
     "output_type": "display_data"
    }
   ],
   "source": [
    "#Deuxième élément de symétrie\n",
    "Mirror = SymList[17]\n",
    "print(\"Deuxième élément de symétrie :\\n\")\n",
    "print(Mirror.as_xyz_string(),\"\\n\")\n",
    "print(\"Les coordonnées de l'atome de Thulium (Tm) sur lequel la symétrie est appliquée sont (0.00000, 0.00000, 9.35780)\")\n",
    "print(\"L'opérations de symétrie est une rotoinversion, c'est-à-dire une rotation de 120° suivi d'une inversion de centre (-2/3, -1/3, 1/6)\")\n",
    "\n",
    "print(\"En appliquant l'opération de symétrie l'atome se retouve en (0.67,0.33,-9.0244)\")\n",
    "view = quick_view(struct,\"packed\")\n",
    "display(view)\n",
    "view.script(\"draw symop 18 {atomno=2}\")"
   ]
  },
  {
   "cell_type": "code",
   "execution_count": 29,
   "id": "composed-trout",
   "metadata": {},
   "outputs": [
    {
     "name": "stdout",
     "output_type": "stream",
     "text": [
      "Troisième élément de symétrie :\n",
      "\n",
      "-x+y+1/3, y+2/3, z+2/3 \n",
      "\n",
      "Les coordonnées de l'atome sur lequel la symétrie est appliquée sont (0,0,0)\n",
      "L'opération de symétrie est un plan de glissement de vecteur de normal (1, 0, 0) et de vecteur de translation (-1/6, -1/3, -1/3) \n",
      "En appliquant l'opération de symétrie l'atome se retouve en (0,0,0)\n"
     ]
    },
    {
     "data": {
      "application/vnd.jupyter.widget-view+json": {
       "model_id": "ce166ac0a36848b1b58e85dc7460a150",
       "version_major": 2,
       "version_minor": 0
      },
      "text/plain": [
       "JsmolView(layout=Layout(align_self='stretch', height='400px'))"
      ]
     },
     "metadata": {},
     "output_type": "display_data"
    }
   ],
   "source": [
    "#Troisième élément de symétrie\n",
    "Mirror = SymList[33]\n",
    "print(\"Troisième élément de symétrie :\\n\")\n",
    "print(Mirror.as_xyz_string(),\"\\n\")\n",
    "print(\"Les coordonnées de l'atome d'oxygène (O) sur lequel la symétrie est appliquée sont (0.00000, 0.00000, 4.26179)\")\n",
    "print(\"L'opération de symétrie est un plan de glissement de vecteur de normal (1, 0, 0) et de vecteur de translation (-1/6, -1/3, -1/3) \")\n",
    "print(\"En appliquant l'opération de symétrie l'atome se retouve en (0.33,0.67,4.928)\")\n",
    "view = quick_view(struct,\"packed\")\n",
    "display(view)\n",
    "view.script(\"draw symop 34 {atomno=3}\")"
   ]
  },
  {
   "cell_type": "code",
   "execution_count": null,
   "id": "discrete-mechanics",
   "metadata": {},
   "outputs": [],
   "source": []
  }
 ],
 "metadata": {
  "kernelspec": {
   "display_name": "Python 3",
   "language": "python",
   "name": "python3"
  },
  "language_info": {
   "codemirror_mode": {
    "name": "ipython",
    "version": 3
   },
   "file_extension": ".py",
   "mimetype": "text/x-python",
   "name": "python",
   "nbconvert_exporter": "python",
   "pygments_lexer": "ipython3",
   "version": "3.6.8"
  }
 },
 "nbformat": 4,
 "nbformat_minor": 5
}
