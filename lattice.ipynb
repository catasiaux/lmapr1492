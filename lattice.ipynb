{
 "cells": [
  {
   "cell_type": "code",
   "execution_count": 1,
   "id": "seven-dependence",
   "metadata": {},
   "outputs": [],
   "source": [
    "from pymatgen import Structure\n",
    "from jupyter_jsmol.pymatgen import quick_view\n",
    "from pymatgen.ext.matproj import MPRester\n",
    "import numpy as np\n",
    "from pymatgen.symmetry.analyzer import SpacegroupAnalyzer"
   ]
  },
  {
   "cell_type": "code",
   "execution_count": 2,
   "id": "disciplinary-amplifier",
   "metadata": {},
   "outputs": [],
   "source": [
    "with MPRester(\"CUtlIkfw4Pq2Hd7W\") as m:\n",
    "    \n",
    "    # Structure for material id\n",
    "    structure = m.get_structure_by_material_id(\"mp-753774\")\n",
    "    structure.to(filename=\"KTmO2.cif\")"
   ]
  },
  {
   "cell_type": "code",
   "execution_count": 3,
   "id": "thorough-pressure",
   "metadata": {},
   "outputs": [],
   "source": [
    "#Vecteurs de base du réseau direct\n",
    "latt=structure.lattice\n",
    "matrice=latt.matrix\n",
    "\n",
    "a=matrice[0]\n",
    "b=matrice[1]\n",
    "c=matrice[2]\n",
    "\n",
    "omega=np.dot(a,np.cross(b,c))\n",
    "\n",
    "#Vecteurs de base du réseau réciproque\n",
    "a_rec=(2*np.pi/omega)*np.cross(b,c)\n",
    "b_rec=(2*np.pi/omega)*np.cross(c,a)\n",
    "c_rec=(2*np.pi/omega)*np.cross(a,b)\n",
    "\n",
    "matrice_reci=latt.reciprocal_lattice.matrix\n",
    "\n",
    "a_reci=matrice_reci[0]\n",
    "b_reci=matrice_reci[1]\n",
    "c_reci=matrice_reci[2]"
   ]
  },
  {
   "cell_type": "code",
   "execution_count": 4,
   "id": "automotive-mixture",
   "metadata": {},
   "outputs": [],
   "source": [
    "#Système cristallin\n",
    "sp = SpacegroupAnalyzer(structure)\n",
    "sy_cri = sp.get_crystal_system()"
   ]
  },
  {
   "cell_type": "code",
   "execution_count": 5,
   "id": "iraqi-shepherd",
   "metadata": {},
   "outputs": [],
   "source": [
    "#Type de maille\n",
    "maille = sp.get_lattice_type()"
   ]
  },
  {
   "cell_type": "code",
   "execution_count": 6,
   "id": "southern-router",
   "metadata": {},
   "outputs": [],
   "source": [
    "#Groupe ponctuel\n",
    "gr_pon=sp.get_point_group_symbol()"
   ]
  },
  {
   "cell_type": "code",
   "execution_count": 7,
   "id": "clear-celtic",
   "metadata": {},
   "outputs": [
    {
     "name": "stdout",
     "output_type": "stream",
     "text": [
      "Le matériau qui m'a été attribué est le KTmO2\n",
      "\n",
      "Les vecteurs de base de son réseau direct sont:\n",
      "a = ( 6.316339 , -1.711849 , 0.0 )\n",
      "b = ( 6.316339 , 1.711849 , 0.0 )\n",
      "c = ( 5.852395 , 0.0 , 2.928488 )\n",
      "\n",
      "Les vecteurs de base de son réseau réciproque obtenu à partir des définitions sont:\n",
      "a* = ( 0.4973755609997806 , -1.8352043045793136 , -0.993973083146426 )\n",
      "b* = ( 0.4973755609997806 , 1.8352043045793136 , -0.993973083146426 )\n",
      "c* = ( -0.0 , 0.0 , 2.1455390314659257 )\n",
      "\n",
      "Les vecteurs de base de son réseau réciproque obtenu à partir de l'objet lattice sont:\n",
      "a* = ( 0.4973755609997806 , -1.8352043045793136 , -0.9939730831464259 )\n",
      "b* = ( 0.4973755609997806 , 1.8352043045793136 , -0.9939730831464259 )\n",
      "c* = ( 0.0 , 0.0 , 2.1455390314659257 )\n",
      "\n",
      "On peut vérifier que ce sont bien les mêmes\n",
      "\n",
      "Sa maille est de type rhombohedral \n",
      "\n",
      "Son système cristallin est trigonal \n",
      "\n",
      "Son groupe ponctuel est -3m \n",
      "\n"
     ]
    }
   ],
   "source": [
    "#Conclusion\n",
    "print(\"Le matériau qui m'a été attribué est le KTmO2\\n\")\n",
    "print(\"Les vecteurs de base de son réseau direct sont:\")\n",
    "print(\"a = (\",a[0],\",\",a[1],\",\",a[2],\")\")\n",
    "print(\"b = (\",b[0],\",\",b[1],\",\",b[2],\")\")\n",
    "print(\"c = (\",c[0],\",\",c[1],\",\",c[2],\")\\n\")\n",
    "print(\"Les vecteurs de base de son réseau réciproque obtenu à partir des définitions sont:\")\n",
    "print(\"a* = (\",a_rec[0],\",\",a_rec[1],\",\",a_rec[2],\")\")\n",
    "print(\"b* = (\",b_rec[0],\",\",b_rec[1],\",\",b_rec[2],\")\")\n",
    "print(\"c* = (\",c_rec[0],\",\",c_rec[1],\",\",c_rec[2],\")\\n\")\n",
    "print(\"Les vecteurs de base de son réseau réciproque obtenu à partir de l'objet lattice sont:\")\n",
    "print(\"a* = (\",a_reci[0],\",\",a_reci[1],\",\",a_reci[2],\")\")\n",
    "print(\"b* = (\",b_reci[0],\",\",b_reci[1],\",\",b_reci[2],\")\")\n",
    "print(\"c* = (\",c_reci[0],\",\",c_reci[1],\",\",c_reci[2],\")\\n\")\n",
    "print(\"On peut vérifier que ce sont bien les mêmes\\n\")\n",
    "print(\"Sa maille est de type\",maille,\"\\n\")\n",
    "print(\"Son système cristallin est\", sy_cri,\"\\n\")\n",
    "print(\"Son groupe ponctuel est\",gr_pon,\"\\n\")"
   ]
  }
 ],
 "metadata": {
  "kernelspec": {
   "display_name": "Python 3",
   "language": "python",
   "name": "python3"
  },
  "language_info": {
   "codemirror_mode": {
    "name": "ipython",
    "version": 3
   },
   "file_extension": ".py",
   "mimetype": "text/x-python",
   "name": "python",
   "nbconvert_exporter": "python",
   "pygments_lexer": "ipython3",
   "version": "3.6.8"
  }
 },
 "nbformat": 4,
 "nbformat_minor": 5
}
